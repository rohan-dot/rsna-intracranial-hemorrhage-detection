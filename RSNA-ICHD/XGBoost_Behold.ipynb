{
 "cells": [
  {
   "cell_type": "code",
   "execution_count": 332,
   "metadata": {},
   "outputs": [],
   "source": [
    "import pandas as pd\n",
    "import numpy as np\n",
    "import warnings\n",
    "warnings.filterwarnings('ignore')\n",
    "import numpy as np\n",
    "import pandas as pd\n",
    "from datetime import datetime\n",
    "from sklearn.model_selection import RandomizedSearchCV, GridSearchCV\n",
    "from sklearn.metrics import roc_auc_score\n",
    "from sklearn.model_selection import StratifiedKFold\n",
    "from xgboost import XGBClassifier"
   ]
  },
  {
   "cell_type": "code",
   "execution_count": 333,
   "metadata": {},
   "outputs": [],
   "source": [
    "train_sounds = pd.read_csv(r'C:\\Users\\rlee3104\\beholdAI\\train_behold.csv')"
   ]
  },
  {
   "cell_type": "code",
   "execution_count": 334,
   "metadata": {},
   "outputs": [
    {
     "data": {
      "text/html": [
       "<div>\n",
       "<style scoped>\n",
       "    .dataframe tbody tr th:only-of-type {\n",
       "        vertical-align: middle;\n",
       "    }\n",
       "\n",
       "    .dataframe tbody tr th {\n",
       "        vertical-align: top;\n",
       "    }\n",
       "\n",
       "    .dataframe thead th {\n",
       "        text-align: right;\n",
       "    }\n",
       "</style>\n",
       "<table border=\"1\" class=\"dataframe\">\n",
       "  <thead>\n",
       "    <tr style=\"text-align: right;\">\n",
       "      <th></th>\n",
       "      <th>contrast</th>\n",
       "      <th>dissimilarity</th>\n",
       "      <th>homogeneity</th>\n",
       "      <th>ASM</th>\n",
       "      <th>energy</th>\n",
       "      <th>correlation</th>\n",
       "      <th>subarachnoid</th>\n",
       "    </tr>\n",
       "  </thead>\n",
       "  <tbody>\n",
       "    <tr>\n",
       "      <th>0</th>\n",
       "      <td>3477.947917</td>\n",
       "      <td>24.919588</td>\n",
       "      <td>0.592016</td>\n",
       "      <td>0.312388</td>\n",
       "      <td>0.558917</td>\n",
       "      <td>0.695715</td>\n",
       "      <td>1</td>\n",
       "    </tr>\n",
       "    <tr>\n",
       "      <th>1</th>\n",
       "      <td>3477.947917</td>\n",
       "      <td>24.919588</td>\n",
       "      <td>0.592016</td>\n",
       "      <td>0.312388</td>\n",
       "      <td>0.558917</td>\n",
       "      <td>0.695715</td>\n",
       "      <td>0</td>\n",
       "    </tr>\n",
       "    <tr>\n",
       "      <th>2</th>\n",
       "      <td>3378.826601</td>\n",
       "      <td>19.703506</td>\n",
       "      <td>0.724975</td>\n",
       "      <td>0.479028</td>\n",
       "      <td>0.692118</td>\n",
       "      <td>0.759936</td>\n",
       "      <td>1</td>\n",
       "    </tr>\n",
       "    <tr>\n",
       "      <th>3</th>\n",
       "      <td>3065.715828</td>\n",
       "      <td>20.438770</td>\n",
       "      <td>0.699484</td>\n",
       "      <td>0.448966</td>\n",
       "      <td>0.670049</td>\n",
       "      <td>0.707154</td>\n",
       "      <td>1</td>\n",
       "    </tr>\n",
       "    <tr>\n",
       "      <th>4</th>\n",
       "      <td>5983.737551</td>\n",
       "      <td>32.912221</td>\n",
       "      <td>0.635906</td>\n",
       "      <td>0.358061</td>\n",
       "      <td>0.598382</td>\n",
       "      <td>0.500977</td>\n",
       "      <td>0</td>\n",
       "    </tr>\n",
       "  </tbody>\n",
       "</table>\n",
       "</div>"
      ],
      "text/plain": [
       "     contrast    dissimilarity   homogeneity       ASM    energy  correlation  \\\n",
       "0  3477.947917        24.919588     0.592016  0.312388  0.558917     0.695715   \n",
       "1  3477.947917        24.919588     0.592016  0.312388  0.558917     0.695715   \n",
       "2  3378.826601        19.703506     0.724975  0.479028  0.692118     0.759936   \n",
       "3  3065.715828        20.438770     0.699484  0.448966  0.670049     0.707154   \n",
       "4  5983.737551        32.912221     0.635906  0.358061  0.598382     0.500977   \n",
       "\n",
       "   subarachnoid  \n",
       "0             1  \n",
       "1             0  \n",
       "2             1  \n",
       "3             1  \n",
       "4             0  "
      ]
     },
     "execution_count": 334,
     "metadata": {},
     "output_type": "execute_result"
    }
   ],
   "source": [
    "train_sounds.head()"
   ]
  },
  {
   "cell_type": "code",
   "execution_count": 336,
   "metadata": {},
   "outputs": [],
   "source": [
    "train_label = train_sounds['subarachnoid']"
   ]
  },
  {
   "cell_type": "code",
   "execution_count": 337,
   "metadata": {},
   "outputs": [],
   "source": [
    "count = train_sounds['subarachnoid'].value_counts() "
   ]
  },
  {
   "cell_type": "code",
   "execution_count": 338,
   "metadata": {},
   "outputs": [
    {
     "data": {
      "text/plain": [
       "0    5584\n",
       "1    2958\n",
       "Name: subarachnoid, dtype: int64"
      ]
     },
     "execution_count": 338,
     "metadata": {},
     "output_type": "execute_result"
    }
   ],
   "source": [
    "count"
   ]
  },
  {
   "cell_type": "code",
   "execution_count": 366,
   "metadata": {},
   "outputs": [
    {
     "data": {
      "text/plain": [
       "1.8877620013522651"
      ]
     },
     "execution_count": 366,
     "metadata": {},
     "output_type": "execute_result"
    }
   ],
   "source": [
    "5584/2958"
   ]
  },
  {
   "cell_type": "code",
   "execution_count": 339,
   "metadata": {},
   "outputs": [],
   "source": [
    "train_sounds.drop(['subarachnoid'],inplace=True,axis=1)"
   ]
  },
  {
   "cell_type": "code",
   "execution_count": null,
   "metadata": {},
   "outputs": [],
   "source": [
    "\n",
    "    "
   ]
  },
  {
   "cell_type": "code",
   "execution_count": 340,
   "metadata": {},
   "outputs": [],
   "source": [
    "from xgboost import XGBClassifier"
   ]
  },
  {
   "cell_type": "code",
   "execution_count": 368,
   "metadata": {},
   "outputs": [],
   "source": [
    "from sklearn.model_selection import train_test_split, cross_val_score\n",
    "\n",
    "X_train, X_test, y_train, y_test = train_test_split(\n",
    "    train_sounds, train_label, test_size=0.2, random_state=42\n",
    ")"
   ]
  },
  {
   "cell_type": "code",
   "execution_count": null,
   "metadata": {},
   "outputs": [],
   "source": []
  },
  {
   "cell_type": "code",
   "execution_count": 379,
   "metadata": {},
   "outputs": [],
   "source": [
    "params = {'colsample_bytree': 0.8,'learning_rate': 0.001, 'max_depth': 8, 'n_estimators': 1000, 'subsample': 1,'objective':'binary:logistic','eval_metric':'logloss','scale_pos_weight':1.2}"
   ]
  },
  {
   "cell_type": "code",
   "execution_count": 380,
   "metadata": {},
   "outputs": [],
   "source": [
    "import xgboost as xgb\n",
    "dt =xgdmat=xgb.DMatrix(X_train,y_train)\n",
    "dte = xgdmat=xgb.DMatrix(X_test,y_test)"
   ]
  },
  {
   "cell_type": "code",
   "execution_count": 384,
   "metadata": {},
   "outputs": [
    {
     "name": "stdout",
     "output_type": "stream",
     "text": [
      "[0]\ttrain-logloss:0.692996\tvalid-logloss:0.693053\n",
      "[200]\ttrain-logloss:0.667\tvalid-logloss:0.677334\n",
      "[400]\ttrain-logloss:0.646584\tvalid-logloss:0.666688\n",
      "[600]\ttrain-logloss:0.630158\tvalid-logloss:0.659239\n",
      "[800]\ttrain-logloss:0.615982\tvalid-logloss:0.654203\n",
      "[1000]\ttrain-logloss:0.603491\tvalid-logloss:0.650466\n",
      "[1200]\ttrain-logloss:0.592556\tvalid-logloss:0.647862\n",
      "[1400]\ttrain-logloss:0.583601\tvalid-logloss:0.646231\n",
      "[1600]\ttrain-logloss:0.575507\tvalid-logloss:0.645221\n",
      "[1800]\ttrain-logloss:0.568166\tvalid-logloss:0.644758\n",
      "[2000]\ttrain-logloss:0.562004\tvalid-logloss:0.644657\n",
      "[2200]\ttrain-logloss:0.557158\tvalid-logloss:0.644455\n",
      "[2400]\ttrain-logloss:0.552872\tvalid-logloss:0.644079\n",
      "[2600]\ttrain-logloss:0.548709\tvalid-logloss:0.643757\n",
      "[2799]\ttrain-logloss:0.544882\tvalid-logloss:0.643635\n"
     ]
    }
   ],
   "source": [
    "model = xgb.train(params, dt, 2800, [(dt, \"train\"),(dte, \"valid\")], verbose_eval=200)"
   ]
  },
  {
   "cell_type": "code",
   "execution_count": 385,
   "metadata": {},
   "outputs": [],
   "source": [
    "from termcolor import colored\n",
    "#from sklearn.cross_validation import KFold\n",
    "\n",
    "from sklearn.metrics import confusion_matrix"
   ]
  },
  {
   "cell_type": "code",
   "execution_count": 386,
   "metadata": {},
   "outputs": [
    {
     "name": "stdout",
     "output_type": "stream",
     "text": [
      "\u001b[31mThe Confusion Matrix is: \u001b[0m \n",
      " [[1031   85]\n",
      " [ 548   45]]\n",
      "\u001b[34mThe Accuracy on Test Set is: \u001b[0m \u001b[34m0.6296079578700995\u001b[0m\n"
     ]
    }
   ],
   "source": [
    "y_pred1 = model.predict(dte)\n",
    "cm = confusion_matrix(y_test, (y_pred1>0.5))\n",
    "print(colored('The Confusion Matrix is: ', 'red'),'\\n', cm)\n",
    "predict_accuracy_on_test_set = (cm[0,0] + cm[1,1])/(cm[0,0] + cm[1,1]+cm[1,0] + cm[0,1])\n",
    "print(colored('The Accuracy on Test Set is: ', 'blue'), colored(predict_accuracy_on_test_set, 'blue'))"
   ]
  },
  {
   "cell_type": "code",
   "execution_count": 387,
   "metadata": {},
   "outputs": [],
   "source": [
    "test_sounds = pd.read_csv(r'C:\\Users\\rlee3104\\beholdAI\\test_behold.csv')"
   ]
  },
  {
   "cell_type": "code",
   "execution_count": 388,
   "metadata": {},
   "outputs": [
    {
     "data": {
      "text/html": [
       "<div>\n",
       "<style scoped>\n",
       "    .dataframe tbody tr th:only-of-type {\n",
       "        vertical-align: middle;\n",
       "    }\n",
       "\n",
       "    .dataframe tbody tr th {\n",
       "        vertical-align: top;\n",
       "    }\n",
       "\n",
       "    .dataframe thead th {\n",
       "        text-align: right;\n",
       "    }\n",
       "</style>\n",
       "<table border=\"1\" class=\"dataframe\">\n",
       "  <thead>\n",
       "    <tr style=\"text-align: right;\">\n",
       "      <th></th>\n",
       "      <th>contrast</th>\n",
       "      <th>dissimilarity</th>\n",
       "      <th>homogeneity</th>\n",
       "      <th>ASM</th>\n",
       "      <th>energy</th>\n",
       "      <th>correlation</th>\n",
       "    </tr>\n",
       "  </thead>\n",
       "  <tbody>\n",
       "    <tr>\n",
       "      <th>0</th>\n",
       "      <td>3073.033410</td>\n",
       "      <td>18.406631</td>\n",
       "      <td>0.693477</td>\n",
       "      <td>0.433153</td>\n",
       "      <td>0.658144</td>\n",
       "      <td>0.734190</td>\n",
       "    </tr>\n",
       "    <tr>\n",
       "      <th>1</th>\n",
       "      <td>4619.377160</td>\n",
       "      <td>28.053735</td>\n",
       "      <td>0.636671</td>\n",
       "      <td>0.370178</td>\n",
       "      <td>0.608423</td>\n",
       "      <td>0.543405</td>\n",
       "    </tr>\n",
       "    <tr>\n",
       "      <th>2</th>\n",
       "      <td>4428.263592</td>\n",
       "      <td>28.837652</td>\n",
       "      <td>0.558793</td>\n",
       "      <td>0.281347</td>\n",
       "      <td>0.530421</td>\n",
       "      <td>0.626958</td>\n",
       "    </tr>\n",
       "    <tr>\n",
       "      <th>3</th>\n",
       "      <td>4486.181148</td>\n",
       "      <td>28.757876</td>\n",
       "      <td>0.554076</td>\n",
       "      <td>0.273923</td>\n",
       "      <td>0.523376</td>\n",
       "      <td>0.654095</td>\n",
       "    </tr>\n",
       "    <tr>\n",
       "      <th>4</th>\n",
       "      <td>5390.584921</td>\n",
       "      <td>28.406822</td>\n",
       "      <td>0.704247</td>\n",
       "      <td>0.357729</td>\n",
       "      <td>0.598105</td>\n",
       "      <td>0.719922</td>\n",
       "    </tr>\n",
       "  </tbody>\n",
       "</table>\n",
       "</div>"
      ],
      "text/plain": [
       "     contrast    dissimilarity   homogeneity       ASM    energy  correlation\n",
       "0  3073.033410        18.406631     0.693477  0.433153  0.658144     0.734190\n",
       "1  4619.377160        28.053735     0.636671  0.370178  0.608423     0.543405\n",
       "2  4428.263592        28.837652     0.558793  0.281347  0.530421     0.626958\n",
       "3  4486.181148        28.757876     0.554076  0.273923  0.523376     0.654095\n",
       "4  5390.584921        28.406822     0.704247  0.357729  0.598105     0.719922"
      ]
     },
     "execution_count": 388,
     "metadata": {},
     "output_type": "execute_result"
    }
   ],
   "source": [
    "test_sounds.head()"
   ]
  },
  {
   "cell_type": "code",
   "execution_count": 389,
   "metadata": {},
   "outputs": [],
   "source": [
    "dtest = xgdmat=xgb.DMatrix(test_sounds)"
   ]
  },
  {
   "cell_type": "code",
   "execution_count": 390,
   "metadata": {},
   "outputs": [],
   "source": [
    "y_epidural = model.predict(dtest)"
   ]
  },
  {
   "cell_type": "code",
   "execution_count": 391,
   "metadata": {},
   "outputs": [
    {
     "data": {
      "text/plain": [
       "array([0.5082298 , 0.3352754 , 0.4597022 , ..., 0.39774388, 0.39720154,\n",
       "       0.45640457], dtype=float32)"
      ]
     },
     "execution_count": 391,
     "metadata": {},
     "output_type": "execute_result"
    }
   ],
   "source": [
    "y_epidural"
   ]
  },
  {
   "cell_type": "code",
   "execution_count": 392,
   "metadata": {},
   "outputs": [],
   "source": [
    "my_submission = pd.DataFrame({'subarachnoid': y_epidural.ravel()})\n",
    "my_submission.to_csv('subarachnoid.csv', index=False)"
   ]
  },
  {
   "cell_type": "code",
   "execution_count": null,
   "metadata": {},
   "outputs": [],
   "source": []
  },
  {
   "cell_type": "code",
   "execution_count": null,
   "metadata": {},
   "outputs": [],
   "source": []
  },
  {
   "cell_type": "code",
   "execution_count": null,
   "metadata": {},
   "outputs": [],
   "source": []
  }
 ],
 "metadata": {
  "kernelspec": {
   "display_name": "Python 3",
   "language": "python",
   "name": "python3"
  },
  "language_info": {
   "codemirror_mode": {
    "name": "ipython",
    "version": 3
   },
   "file_extension": ".py",
   "mimetype": "text/x-python",
   "name": "python",
   "nbconvert_exporter": "python",
   "pygments_lexer": "ipython3",
   "version": "3.7.3"
  }
 },
 "nbformat": 4,
 "nbformat_minor": 2
}
